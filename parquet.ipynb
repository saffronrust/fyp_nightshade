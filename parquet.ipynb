{
 "cells": [
  {
   "cell_type": "code",
   "execution_count": 7,
   "id": "80de466b",
   "metadata": {},
   "outputs": [
    {
     "name": "stdout",
     "output_type": "stream",
     "text": [
      "         SAMPLE_ID                                                URL  \\\n",
      "1010  3.598362e+12  https://cdn.shopify.com/s/files/1/0081/3314/87...   \n",
      "2460  2.890279e+12  https://gabrielangeldesign.blob.core.windows.n...   \n",
      "2845  7.482069e+09  http://rlv.zcache.com/leprechaun_atheist_a_app...   \n",
      "4260  3.882840e+11  http://rlv.zcache.co.nz/woman_in_green_holding...   \n",
      "4385  1.948628e+12  https://images.squarespace-cdn.com/content/56b...   \n",
      "\n",
      "                                                   TEXT  HEIGHT  WIDTH  \\\n",
      "1010                  005L battery from Batteryworld.ie   512.0  512.0   \n",
      "2460  Mustache and Sombrero Baby American Apparel 3/...   512.0  512.0   \n",
      "2845  \"Leprechaun Atheist \"\"A\"\" apparel and gifts Ne...   512.0  512.0   \n",
      "4260         Woman in Green Holding a Pipe Scene Poster   512.0  512.0   \n",
      "4385            instagram-icon-logo-vector-download.jpg   512.0  512.0   \n",
      "\n",
      "     LICENSE      NSFW  similarity  \n",
      "1010       ?  UNLIKELY    0.309673  \n",
      "2460       ?  UNLIKELY    0.396883  \n",
      "2845       ?  UNLIKELY    0.361847  \n",
      "4260       ?  UNLIKELY    0.301777  \n",
      "4385       ?  UNLIKELY    0.335788  \n"
     ]
    }
   ],
   "source": [
    "import pandas as pd\n",
    "from PIL import Image\n",
    "import requests\n",
    "from io import BytesIO\n",
    "\n",
    "df = pd.read_parquet(\"laionpart1.parquet\", engine=\"fastparquet\")\n",
    "\n",
    "df = df[(df['HEIGHT'] == 512.0) & (df['WIDTH'] == 512.0)]\n",
    "\n",
    "print(df.head())"
   ]
  },
  {
   "cell_type": "code",
   "execution_count": 45,
   "id": "0f188f64",
   "metadata": {},
   "outputs": [
    {
     "name": "stdout",
     "output_type": "stream",
     "text": [
      "            SAMPLE_ID                                                URL  \\\n",
      "247523   3.447441e+12  https://cdn.shopify.com/s/files/1/0037/2369/01...   \n",
      "1965677  6.130700e+10  http://rlv.zcache.co.uk/abstract_trumpet_silho...   \n",
      "2977691  1.186367e+12  http://is2.mzstatic.com/image/thumb/Purple49/v...   \n",
      "4831437  2.223338e+12  http://is1.mzstatic.com/image/thumb/Purple71/v...   \n",
      "8719220  3.783674e+12  https://e3.365dm.com/18/07/512x512/skynews-don...   \n",
      "\n",
      "                                                      TEXT  HEIGHT  WIDTH  \\\n",
      "247523      Geo. F. Trumper Coconut Oil Shaving Cream Tube   512.0  512.0   \n",
      "1965677               Abstract Trumpet Silhouette Postcard   512.0  512.0   \n",
      "2977691  Download Trump On The Run free for iPhone, iPo...   512.0  512.0   \n",
      "4831437                        Trump Stickers for iMessage   512.0  512.0   \n",
      "8719220       Donald Trump has tea with 'tremendous' Queen   512.0  512.0   \n",
      "\n",
      "        LICENSE      NSFW  similarity  \n",
      "247523        ?  UNLIKELY    0.379119  \n",
      "1965677       ?  UNLIKELY    0.336878  \n",
      "2977691       ?  UNLIKELY    0.370040  \n",
      "4831437       ?    UNSURE    0.332698  \n",
      "8719220       ?  UNLIKELY    0.326485  \n",
      "6\n"
     ]
    }
   ],
   "source": [
    "df_obama = df[df['TEXT'].str.contains('trump', case=False, na=False)]\n",
    "\n",
    "print(df_obama.head())\n",
    "print(len(df_obama))"
   ]
  },
  {
   "cell_type": "code",
   "execution_count": 40,
   "id": "2fbb2d52",
   "metadata": {},
   "outputs": [],
   "source": [
    "for i in range(10):\n",
    "    url = df_obama.iloc[i]['URL']\n",
    "    response = requests.get(url)\n",
    "    img = Image.open(BytesIO(response.content))\n",
    "    img.show()"
   ]
  }
 ],
 "metadata": {
  "kernelspec": {
   "display_name": "fyp_nightshade",
   "language": "python",
   "name": "python3"
  },
  "language_info": {
   "codemirror_mode": {
    "name": "ipython",
    "version": 3
   },
   "file_extension": ".py",
   "mimetype": "text/x-python",
   "name": "python",
   "nbconvert_exporter": "python",
   "pygments_lexer": "ipython3",
   "version": "3.11.13"
  }
 },
 "nbformat": 4,
 "nbformat_minor": 5
}

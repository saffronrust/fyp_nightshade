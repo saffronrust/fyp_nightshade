{
 "cells": [
  {
   "cell_type": "code",
   "execution_count": 4,
   "id": "b13d4973",
   "metadata": {},
   "outputs": [],
   "source": [
    "from pathlib import Path\n",
    "from PIL import Image\n",
    "import torch, numpy as np\n",
    "import clip\n",
    "\n",
    "device = \"cuda\" if torch.cuda.is_available() else \"cpu\"\n",
    "model, preprocess = clip.load(\"ViT-B/32\", device=device)\n",
    "\n",
    "def zero_shot_label(img, labels):\n",
    "    with torch.no_grad():\n",
    "        i = preprocess(img).unsqueeze(0).to(device)\n",
    "        t = clip.tokenize([f\"a photo of {lbl}\" for lbl in labels]).to(device)\n",
    "        i_feat = model.encode_image(i); t_feat = model.encode_text(t)\n",
    "        probs = (i_feat @ t_feat.T).softmax(dim=-1).squeeze(0)\n",
    "        idx = int(probs.argmax().item())\n",
    "        return labels[idx], probs.tolist()\n",
    "\n",
    "def evaluate(path_clean, path_poisoned, concept_C, concept_A, prompt=None):\n",
    "    pc, pp = Path(path_clean), Path(path_poisoned)\n",
    "\n",
    "    if pc.is_file() and pp.is_file():\n",
    "        img_c = Image.open(pc).convert(\"RGB\")\n",
    "        img_p = Image.open(pp).convert(\"RGB\")\n",
    "\n",
    "        pred_c, probs_c = zero_shot_label(img_c, [concept_C, concept_A])\n",
    "        pred_p, probs_p = zero_shot_label(img_p, [concept_C, concept_A])\n",
    "\n",
    "        return {\n",
    "            \"clean_prediction\": concept_A if pred_c != concept_C else concept_C,\n",
    "            \"poisoned_prediction\": concept_A if pred_p != concept_C else concept_C,\n",
    "            \"C_A_prob_ratio_clean\": probs_c,\n",
    "            \"C_A_prob_ratio_poison\": probs_p,\n",
    "            \"prob_shift_to_C\": probs_p[1] / probs_c[1],  # prob of concept_C\n",
    "        }"
   ]
  },
  {
   "cell_type": "code",
   "execution_count": 5,
   "id": "1e93f76d",
   "metadata": {},
   "outputs": [
    {
     "name": "stdout",
     "output_type": "stream",
     "text": [
      "{'C_A_prob_ratio_clean': [1.0, 0.00010228157043457031],\n",
      " 'C_A_prob_ratio_poison': [0.99951171875, 0.0003459453582763672],\n",
      " 'clean_prediction': 'dog',\n",
      " 'poisoned_prediction': 'dog',\n",
      " 'prob_shift_to_C': 3.382284382284382}\n"
     ]
    }
   ],
   "source": [
    "from pprint import pprint\n",
    "\n",
    "results = evaluate(\n",
    "    \"clean.png\",\n",
    "    \"poisoned.png\",\n",
    "    concept_C=\"dog\",\n",
    "    concept_A=\"cat\",\n",
    "    prompt=\"a dog\"\n",
    ")\n",
    "pprint(results)"
   ]
  }
 ],
 "metadata": {
  "kernelspec": {
   "display_name": "fyp_nightshade",
   "language": "python",
   "name": "python3"
  },
  "language_info": {
   "codemirror_mode": {
    "name": "ipython",
    "version": 3
   },
   "file_extension": ".py",
   "mimetype": "text/x-python",
   "name": "python",
   "nbconvert_exporter": "python",
   "pygments_lexer": "ipython3",
   "version": "3.11.13"
  }
 },
 "nbformat": 4,
 "nbformat_minor": 5
}

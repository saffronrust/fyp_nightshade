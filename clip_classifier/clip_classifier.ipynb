{
 "cells": [
  {
   "cell_type": "code",
   "execution_count": 28,
   "id": "b13d4973",
   "metadata": {},
   "outputs": [],
   "source": [
    "from pathlib import Path\n",
    "from PIL import Image\n",
    "import torch, numpy as np\n",
    "import clip\n",
    "\n",
    "device = \"cuda\" if torch.cuda.is_available() else \"cpu\"\n",
    "model, preprocess = clip.load(\"ViT-B/32\", device=device)\n",
    "\n",
    "def zero_shot_label(img, labels):\n",
    "    with torch.no_grad():\n",
    "        i = preprocess(img).unsqueeze(0).to(device)\n",
    "        t = clip.tokenize([f\"a photo of {lbl}\" for lbl in labels]).to(device)\n",
    "        i_feat = model.encode_image(i); t_feat = model.encode_text(t)\n",
    "        probs = (i_feat @ t_feat.T).softmax(dim=-1).squeeze(0)\n",
    "        idx = int(probs.argmax().item())\n",
    "        return labels[idx], probs.tolist()\n",
    "\n",
    "def evaluate(path_clean, path_poisoned, concept_C, concept_A):\n",
    "    pc, pp = Path(path_clean), Path(path_poisoned)\n",
    "\n",
    "    if pc.is_file() and pp.is_file():\n",
    "        img_c = Image.open(pc).convert(\"RGB\")\n",
    "        img_p = Image.open(pp).convert(\"RGB\")\n",
    "\n",
    "        pred_c, probs_c = zero_shot_label(img_c, [concept_C, concept_A])\n",
    "        pred_p, probs_p = zero_shot_label(img_p, [concept_C, concept_A])\n",
    "\n",
    "        return {\n",
    "            \"clean_prediction\": concept_A if pred_c != concept_C else concept_C,\n",
    "            \"poisoned_prediction\": concept_A if pred_p != concept_C else concept_C,\n",
    "            \"C_A_prob_ratio_clean\": probs_c,\n",
    "            \"C_A_prob_ratio_poison\": probs_p,\n",
    "            \"odds of \" + concept_C + \" to \" + concept_A + \" (clean)\": str(int(probs_c[0] / probs_c[1])) + \" to 1\",\n",
    "            \"odds of \" + concept_C + \" to \" + concept_A + \" (poisoned)\": str(int(probs_p[0] / probs_p[1])) + \" to 1\"\n",
    "        }"
   ]
  },
  {
   "cell_type": "code",
   "execution_count": 29,
   "id": "1e93f76d",
   "metadata": {},
   "outputs": [
    {
     "name": "stdout",
     "output_type": "stream",
     "text": [
      "{'C_A_prob_ratio_clean': [1.0, 8.094310760498047e-05],\n",
      " 'C_A_prob_ratio_poison': [0.98388671875, 0.015899658203125],\n",
      " 'clean_prediction': 'dog',\n",
      " 'odds of dog to cat (clean)': '12354 to 1',\n",
      " 'odds of dog to cat (poisoned)': '61 to 1',\n",
      " 'poisoned_prediction': 'dog'}\n"
     ]
    }
   ],
   "source": [
    "from pprint import pprint\n",
    "\n",
    "# * concept c is the \"correct\" label\n",
    "# * concept a is the poisoned label\n",
    "# * ideally we want the image from the clean model to be classified as concept c, and the image from the poisoned model to be classified as concept a\n",
    "\n",
    "results = evaluate(\n",
    "    \"clean.png\",\n",
    "    \"poisoned.png\",\n",
    "    concept_C=\"dog\",\n",
    "    concept_A=\"cat\",\n",
    ")\n",
    "pprint(results)"
   ]
  }
 ],
 "metadata": {
  "kernelspec": {
   "display_name": "fyp_nightshade",
   "language": "python",
   "name": "python3"
  },
  "language_info": {
   "codemirror_mode": {
    "name": "ipython",
    "version": 3
   },
   "file_extension": ".py",
   "mimetype": "text/x-python",
   "name": "python",
   "nbconvert_exporter": "python",
   "pygments_lexer": "ipython3",
   "version": "3.11.13"
  }
 },
 "nbformat": 4,
 "nbformat_minor": 5
}

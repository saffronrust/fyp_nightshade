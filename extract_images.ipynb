{
 "cells": [
  {
   "cell_type": "code",
   "execution_count": null,
   "id": "8898983a",
   "metadata": {},
   "outputs": [],
   "source": [
    "import os\n",
    "import pickle\n",
    "import numpy as np\n",
    "from PIL import Image\n",
    "import json\n",
    "\n",
    "# Define the folder containing the pickle files\n",
    "input_folder = \"original_data\"\n",
    "output_folder = r\"C:\\Users\\saffr\\OneDrive - Nanyang Technological University\\NTU\\Y4 FYP\\fyp_nightshade\\extracted_files_for_VLM\"\n",
    "            \n",
    "for file_name in os.listdir(input_folder):\n",
    "    if file_name.endswith(\".p\"):\n",
    "        file_path = os.path.join(input_folder, file_name)\n",
    "        with open(file_path, 'rb') as f:\n",
    "            data = pickle.load(f)\n",
    "        image_data = data['img']\n",
    "        # plt.imshow(np.array(image_data))    \n",
    "        new_file_name = os.path.splitext(file_name)[0]\n",
    "        img_filename = f\"{new_file_name}.png\"\n",
    "        img_path = os.path.join(output_folder, img_filename)\n",
    "        img_png = Image.fromarray(np.array(image_data))\n",
    "        img_png.save(img_path)\n",
    "        txt_data = data['text']\n",
    "        # Append each txt_data to a JSON file\n",
    "        json_filename = \"captions.json\"\n",
    "        json_path = os.path.join(output_folder, json_filename)\n",
    "        \n",
    "        # Create a dictionary for the current entry\n",
    "        entry = {\"image_id\": new_file_name, \"caption\": txt_data}\n",
    "\n",
    "        # Load existing data from the JSON file if it exists\n",
    "        if os.path.exists(json_path):\n",
    "            with open(json_path, 'r') as json_file:\n",
    "                json_data = json.load(json_file)\n",
    "        else:\n",
    "            json_data = []\n",
    "        \n",
    "        # Append the new entry\n",
    "        json_data.append(entry)\n",
    "        \n",
    "        # Write the updated data back to the JSON file\n",
    "        with open(json_path, 'w') as json_file:\n",
    "            json.dump(json_data, json_file, indent=4)"
   ]
  },
  {
   "cell_type": "code",
   "execution_count": null,
   "id": "f9c5d94a",
   "metadata": {},
   "outputs": [],
   "source": []
  }
 ],
 "metadata": {
  "kernelspec": {
   "display_name": "fyp_nightshade",
   "language": "python",
   "name": "python3"
  },
  "language_info": {
   "codemirror_mode": {
    "name": "ipython",
    "version": 3
   },
   "file_extension": ".py",
   "mimetype": "text/x-python",
   "name": "python",
   "nbconvert_exporter": "python",
   "pygments_lexer": "ipython3",
   "version": "3.11.13"
  }
 },
 "nbformat": 4,
 "nbformat_minor": 5
}

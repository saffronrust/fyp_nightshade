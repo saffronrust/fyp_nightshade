{
 "cells": [
  {
   "cell_type": "code",
   "execution_count": 1,
   "id": "de04ce4b",
   "metadata": {},
   "outputs": [
    {
     "name": "stdout",
     "output_type": "stream",
     "text": [
      "300 copies created successfully in the 'target_train' folder.\n"
     ]
    }
   ],
   "source": [
    "import os\n",
    "from shutil import copyfile\n",
    "\n",
    "# Ensure the target_train directory exists\n",
    "output_dir = \"target_train\"\n",
    "os.makedirs(output_dir, exist_ok=True)\n",
    "\n",
    "# Path to the source file\n",
    "source_file = \"target.png\"\n",
    "\n",
    "# Create 300 copies with filenames as indices\n",
    "for i in range(300):\n",
    "    destination_file = os.path.join(output_dir, f\"{i}.png\")\n",
    "    copyfile(source_file, destination_file)\n",
    "\n",
    "print(\"300 copies created successfully in the 'target_train' folder.\")"
   ]
  }
 ],
 "metadata": {
  "kernelspec": {
   "display_name": "fyp_nightshade",
   "language": "python",
   "name": "python3"
  },
  "language_info": {
   "codemirror_mode": {
    "name": "ipython",
    "version": 3
   },
   "file_extension": ".py",
   "mimetype": "text/x-python",
   "name": "python",
   "nbconvert_exporter": "python",
   "pygments_lexer": "ipython3",
   "version": "3.11.13"
  }
 },
 "nbformat": 4,
 "nbformat_minor": 5
}
